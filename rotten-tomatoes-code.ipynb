{
 "cells": [
  {
   "cell_type": "raw",
   "id": "ecfba646",
   "metadata": {
    "_cell_guid": "b1076dfc-b9ad-4769-8c92-a6c4dae69d19",
    "_uuid": "8f2839f25d086af736a60e9eeb907d3b93b6e0e5",
    "papermill": {
     "duration": 0.006553,
     "end_time": "2024-08-08T16:07:52.756505",
     "exception": false,
     "start_time": "2024-08-08T16:07:52.749952",
     "status": "completed"
    },
    "tags": []
   },
   "source": [
    "# This Python 3 environment comes with many helpful analytics libraries installed\n",
    "# It is defined by the kaggle/python Docker image: https://github.com/kaggle/docker-python\n",
    "# For example, here's several helpful packages to load\n",
    "\n",
    "import numpy as np # linear algebra\n",
    "import pandas as pd # data processing, CSV file I/O (e.g. pd.read_csv)\n",
    "\n",
    "# Input data files are available in the read-only \"../input/\" directory\n",
    "# For example, running this (by clicking run or pressing Shift+Enter) will list all files under the input directory\n",
    "\n",
    "import os\n",
    "for dirname, _, filenames in os.walk('/kaggle/input'):\n",
    "    for filename in filenames:\n",
    "        print(os.path.join(dirname, filename))\n",
    "\n",
    "# You can write up to 20GB to the current directory (/kaggle/working/) that gets preserved as output when you create a version using \"Save & Run All\" \n",
    "# You can also write temporary files to /kaggle/temp/, but they won't be saved outside of the current session"
   ]
  },
  {
   "cell_type": "code",
   "execution_count": 1,
   "id": "03a99034",
   "metadata": {
    "execution": {
     "iopub.execute_input": "2024-08-08T16:07:52.770430Z",
     "iopub.status.busy": "2024-08-08T16:07:52.770017Z",
     "iopub.status.idle": "2024-08-08T16:07:52.803909Z",
     "shell.execute_reply": "2024-08-08T16:07:52.802511Z"
    },
    "papermill": {
     "duration": 0.043802,
     "end_time": "2024-08-08T16:07:52.806579",
     "exception": false,
     "start_time": "2024-08-08T16:07:52.762777",
     "status": "completed"
    },
    "tags": []
   },
   "outputs": [
    {
     "name": "stdout",
     "output_type": "stream",
     "text": [
      "/kaggle/input/rotten-tomatoes-movies-and-critic-reviews-dataset/rotten_tomatoes_movies.csv\n",
      "/kaggle/input/rotten-tomatoes-movies-and-critic-reviews-dataset/rotten_tomatoes_critic_reviews.csv\n"
     ]
    }
   ],
   "source": [
    "import os\n",
    "for dirname, _, filenames in os.walk('/kaggle/input'):\n",
    "    for filename in filenames:\n",
    "        print(os.path.join(dirname, filename))"
   ]
  },
  {
   "cell_type": "code",
   "execution_count": 2,
   "id": "543e3202",
   "metadata": {
    "execution": {
     "iopub.execute_input": "2024-08-08T16:07:52.820941Z",
     "iopub.status.busy": "2024-08-08T16:07:52.820554Z",
     "iopub.status.idle": "2024-08-08T16:08:01.458248Z",
     "shell.execute_reply": "2024-08-08T16:08:01.457303Z"
    },
    "papermill": {
     "duration": 8.647826,
     "end_time": "2024-08-08T16:08:01.460800",
     "exception": false,
     "start_time": "2024-08-08T16:07:52.812974",
     "status": "completed"
    },
    "tags": []
   },
   "outputs": [],
   "source": [
    "import pandas as pd\n",
    "import numpy as np\n",
    "data = pd.read_csv(\"/kaggle/input/rotten-tomatoes-movies-and-critic-reviews-dataset/rotten_tomatoes_critic_reviews.csv\")"
   ]
  },
  {
   "cell_type": "code",
   "execution_count": 3,
   "id": "acb26480",
   "metadata": {
    "execution": {
     "iopub.execute_input": "2024-08-08T16:08:01.474388Z",
     "iopub.status.busy": "2024-08-08T16:08:01.474017Z",
     "iopub.status.idle": "2024-08-08T16:08:01.526797Z",
     "shell.execute_reply": "2024-08-08T16:08:01.525781Z"
    },
    "papermill": {
     "duration": 0.062199,
     "end_time": "2024-08-08T16:08:01.529250",
     "exception": false,
     "start_time": "2024-08-08T16:08:01.467051",
     "status": "completed"
    },
    "tags": []
   },
   "outputs": [
    {
     "data": {
      "text/html": [
       "<div>\n",
       "<style scoped>\n",
       "    .dataframe tbody tr th:only-of-type {\n",
       "        vertical-align: middle;\n",
       "    }\n",
       "\n",
       "    .dataframe tbody tr th {\n",
       "        vertical-align: top;\n",
       "    }\n",
       "\n",
       "    .dataframe thead th {\n",
       "        text-align: right;\n",
       "    }\n",
       "</style>\n",
       "<table border=\"1\" class=\"dataframe\">\n",
       "  <thead>\n",
       "    <tr style=\"text-align: right;\">\n",
       "      <th></th>\n",
       "      <th>review_type</th>\n",
       "      <th>review_content</th>\n",
       "    </tr>\n",
       "  </thead>\n",
       "  <tbody>\n",
       "    <tr>\n",
       "      <th>0</th>\n",
       "      <td>Fresh</td>\n",
       "      <td>A fantasy adventure that fuses Greek mythology...</td>\n",
       "    </tr>\n",
       "    <tr>\n",
       "      <th>1</th>\n",
       "      <td>Fresh</td>\n",
       "      <td>Uma Thurman as Medusa, the gorgon with a coiff...</td>\n",
       "    </tr>\n",
       "    <tr>\n",
       "      <th>2</th>\n",
       "      <td>Fresh</td>\n",
       "      <td>With a top-notch cast and dazzling special eff...</td>\n",
       "    </tr>\n",
       "    <tr>\n",
       "      <th>3</th>\n",
       "      <td>Fresh</td>\n",
       "      <td>Whether audiences will get behind The Lightnin...</td>\n",
       "    </tr>\n",
       "    <tr>\n",
       "      <th>4</th>\n",
       "      <td>Rotten</td>\n",
       "      <td>What's really lacking in The Lightning Thief i...</td>\n",
       "    </tr>\n",
       "  </tbody>\n",
       "</table>\n",
       "</div>"
      ],
      "text/plain": [
       "  review_type                                     review_content\n",
       "0       Fresh  A fantasy adventure that fuses Greek mythology...\n",
       "1       Fresh  Uma Thurman as Medusa, the gorgon with a coiff...\n",
       "2       Fresh  With a top-notch cast and dazzling special eff...\n",
       "3       Fresh  Whether audiences will get behind The Lightnin...\n",
       "4      Rotten  What's really lacking in The Lightning Thief i..."
      ]
     },
     "execution_count": 3,
     "metadata": {},
     "output_type": "execute_result"
    }
   ],
   "source": [
    "df = data[['review_type', 'review_content']][:100]\n",
    "df.head()"
   ]
  },
  {
   "cell_type": "code",
   "execution_count": 4,
   "id": "41f51d2f",
   "metadata": {
    "execution": {
     "iopub.execute_input": "2024-08-08T16:08:01.543253Z",
     "iopub.status.busy": "2024-08-08T16:08:01.542877Z",
     "iopub.status.idle": "2024-08-08T16:08:01.783834Z",
     "shell.execute_reply": "2024-08-08T16:08:01.782306Z"
    },
    "papermill": {
     "duration": 0.252475,
     "end_time": "2024-08-08T16:08:01.787954",
     "exception": false,
     "start_time": "2024-08-08T16:08:01.535479",
     "status": "completed"
    },
    "tags": []
   },
   "outputs": [
    {
     "data": {
      "image/png": "[encoded data removed]",
      "text/plain": [
       "<Figure size 640x480 with 1 Axes>"
      ]
     },
     "metadata": {},
     "output_type": "display_data"
    }
   ],
   "source": [
    "import matplotlib.pyplot as plt\n",
    "color = ['darkorange', 'cornflowerblue']\n",
    "df['review_type'].value_counts().plot.pie(colors = color, autopct = \"%.2f%%\")\n",
    "plt.title(\"Distributions of movie review types\")\n",
    "plt.legend()\n",
    "plt.show()"
   ]
  },
  {
   "cell_type": "code",
   "execution_count": 5,
   "id": "af1b5307",
   "metadata": {
    "execution": {
     "iopub.execute_input": "2024-08-08T16:08:01.814212Z",
     "iopub.status.busy": "2024-08-08T16:08:01.813810Z",
     "iopub.status.idle": "2024-08-08T16:08:03.584685Z",
     "shell.execute_reply": "2024-08-08T16:08:03.583687Z"
    },
    "papermill": {
     "duration": 1.785539,
     "end_time": "2024-08-08T16:08:03.587427",
     "exception": false,
     "start_time": "2024-08-08T16:08:01.801888",
     "status": "completed"
    },
    "tags": []
   },
   "outputs": [],
   "source": [
    "import nltk\n",
    "from sklearn.feature_extraction.text import TfidfVectorizer\n",
    "from sklearn.metrics.pairwise import cosine_similarity\n",
    "from sklearn.metrics import accuracy_score, classification_report\n",
    "from nltk.corpus import stopwords\n",
    "from nltk.stem import PorterStemmer\n",
    "from nltk.tokenize import word_tokenize\n",
    "import string\n",
    "stemmer = PorterStemmer()\n",
    "stop_words = set(stopwords.words('english'))\n",
    "def preprocess(data):\n",
    "    exclude = set(string.punctuation)\n",
    "    rem_punc = ''.join(ch for ch in data if ch not in exclude).lower()\n",
    "    tokens = word_tokenize(rem_punc)\n",
    "    return tokens\n",
    "\n",
    "def stem(tokens):\n",
    "    stemmed = [stemmer.stem(word) for word in tokens if word not in stop_words]\n",
    "    return ' '.join(stemmed)"
   ]
  },
  {
   "cell_type": "code",
   "execution_count": 6,
   "id": "757cf85a",
   "metadata": {
    "execution": {
     "iopub.execute_input": "2024-08-08T16:08:03.603543Z",
     "iopub.status.busy": "2024-08-08T16:08:03.603141Z",
     "iopub.status.idle": "2024-08-08T16:08:03.622952Z",
     "shell.execute_reply": "2024-08-08T16:08:03.621800Z"
    },
    "papermill": {
     "duration": 0.030344,
     "end_time": "2024-08-08T16:08:03.625166",
     "exception": false,
     "start_time": "2024-08-08T16:08:03.594822",
     "status": "completed"
    },
    "tags": []
   },
   "outputs": [
    {
     "name": "stdout",
     "output_type": "stream",
     "text": [
      "fantasi adventur fuse greek mytholog contemporari american place valu anyon around 15 give take coupl year thrill visual spectacl\n"
     ]
    }
   ],
   "source": [
    "prepro = stem(preprocess(df['review_content'][0]))\n",
    "print(prepro)"
   ]
  },
  {
   "cell_type": "code",
   "execution_count": 7,
   "id": "a8e749cb",
   "metadata": {
    "execution": {
     "iopub.execute_input": "2024-08-08T16:08:03.640289Z",
     "iopub.status.busy": "2024-08-08T16:08:03.639925Z",
     "iopub.status.idle": "2024-08-08T16:08:03.646908Z",
     "shell.execute_reply": "2024-08-08T16:08:03.645937Z"
    },
    "papermill": {
     "duration": 0.01751,
     "end_time": "2024-08-08T16:08:03.649499",
     "exception": false,
     "start_time": "2024-08-08T16:08:03.631989",
     "status": "completed"
    },
    "tags": []
   },
   "outputs": [
    {
     "name": "stdout",
     "output_type": "stream",
     "text": [
      "<class 'str'>\n"
     ]
    }
   ],
   "source": [
    "li = [type(str(doc)) for doc in df['review_content']]\n",
    "print(li[0])"
   ]
  },
  {
   "cell_type": "code",
   "execution_count": 8,
   "id": "c1fd5258",
   "metadata": {
    "execution": {
     "iopub.execute_input": "2024-08-08T16:08:03.664702Z",
     "iopub.status.busy": "2024-08-08T16:08:03.664351Z",
     "iopub.status.idle": "2024-08-08T16:08:03.806737Z",
     "shell.execute_reply": "2024-08-08T16:08:03.805550Z"
    },
    "papermill": {
     "duration": 0.161502,
     "end_time": "2024-08-08T16:08:03.818026",
     "exception": false,
     "start_time": "2024-08-08T16:08:03.656524",
     "status": "completed"
    },
    "tags": []
   },
   "outputs": [
    {
     "data": {
      "text/html": [
       "<div>\n",
       "<style scoped>\n",
       "    .dataframe tbody tr th:only-of-type {\n",
       "        vertical-align: middle;\n",
       "    }\n",
       "\n",
       "    .dataframe tbody tr th {\n",
       "        vertical-align: top;\n",
       "    }\n",
       "\n",
       "    .dataframe thead th {\n",
       "        text-align: right;\n",
       "    }\n",
       "</style>\n",
       "<table border=\"1\" class=\"dataframe\">\n",
       "  <thead>\n",
       "    <tr style=\"text-align: right;\">\n",
       "      <th></th>\n",
       "      <th>review_type</th>\n",
       "      <th>review_content</th>\n",
       "      <th>stemmed_and_prepro</th>\n",
       "      <th>prepro</th>\n",
       "    </tr>\n",
       "  </thead>\n",
       "  <tbody>\n",
       "    <tr>\n",
       "      <th>0</th>\n",
       "      <td>Fresh</td>\n",
       "      <td>A fantasy adventure that fuses Greek mythology...</td>\n",
       "      <td>fantasi adventur fuse greek mytholog contempor...</td>\n",
       "      <td>a fantasy adventure that fuses greek mythology...</td>\n",
       "    </tr>\n",
       "    <tr>\n",
       "      <th>1</th>\n",
       "      <td>Fresh</td>\n",
       "      <td>Uma Thurman as Medusa, the gorgon with a coiff...</td>\n",
       "      <td>uma thurman medusa gorgon coiffur writh snake ...</td>\n",
       "      <td>uma thurman as medusa the gorgon with a coiffu...</td>\n",
       "    </tr>\n",
       "    <tr>\n",
       "      <th>2</th>\n",
       "      <td>Fresh</td>\n",
       "      <td>With a top-notch cast and dazzling special eff...</td>\n",
       "      <td>topnotch cast dazzl special effect tide teen n...</td>\n",
       "      <td>with a topnotch cast and dazzling special effe...</td>\n",
       "    </tr>\n",
       "    <tr>\n",
       "      <th>3</th>\n",
       "      <td>Fresh</td>\n",
       "      <td>Whether audiences will get behind The Lightnin...</td>\n",
       "      <td>whether audienc get behind lightn thief hard p...</td>\n",
       "      <td>whether audiences will get behind the lightnin...</td>\n",
       "    </tr>\n",
       "    <tr>\n",
       "      <th>4</th>\n",
       "      <td>Rotten</td>\n",
       "      <td>What's really lacking in The Lightning Thief i...</td>\n",
       "      <td>what realli lack lightn thief genuin sens wond...</td>\n",
       "      <td>whats really lacking in the lightning thief is...</td>\n",
       "    </tr>\n",
       "  </tbody>\n",
       "</table>\n",
       "</div>"
      ],
      "text/plain": [
       "  review_type                                     review_content  \\\n",
       "0       Fresh  A fantasy adventure that fuses Greek mythology...   \n",
       "1       Fresh  Uma Thurman as Medusa, the gorgon with a coiff...   \n",
       "2       Fresh  With a top-notch cast and dazzling special eff...   \n",
       "3       Fresh  Whether audiences will get behind The Lightnin...   \n",
       "4      Rotten  What's really lacking in The Lightning Thief i...   \n",
       "\n",
       "                                  stemmed_and_prepro  \\\n",
       "0  fantasi adventur fuse greek mytholog contempor...   \n",
       "1  uma thurman medusa gorgon coiffur writh snake ...   \n",
       "2  topnotch cast dazzl special effect tide teen n...   \n",
       "3  whether audienc get behind lightn thief hard p...   \n",
       "4  what realli lack lightn thief genuin sens wond...   \n",
       "\n",
       "                                              prepro  \n",
       "0  a fantasy adventure that fuses greek mythology...  \n",
       "1  uma thurman as medusa the gorgon with a coiffu...  \n",
       "2  with a topnotch cast and dazzling special effe...  \n",
       "3  whether audiences will get behind the lightnin...  \n",
       "4  whats really lacking in the lightning thief is...  "
      ]
     },
     "execution_count": 8,
     "metadata": {},
     "output_type": "execute_result"
    }
   ],
   "source": [
    "df['stemmed_and_prepro'] = [stem(preprocess(str(doc))) for doc in df['review_content']]\n",
    "df['prepro'] = [' '.join(preprocess(str(doc))) for doc in df['review_content']]\n",
    "df.head()"
   ]
  },
  {
   "cell_type": "code",
   "execution_count": 9,
   "id": "fca6dd0a",
   "metadata": {
    "execution": {
     "iopub.execute_input": "2024-08-08T16:08:03.834761Z",
     "iopub.status.busy": "2024-08-08T16:08:03.834394Z",
     "iopub.status.idle": "2024-08-08T16:08:03.849466Z",
     "shell.execute_reply": "2024-08-08T16:08:03.848263Z"
    },
    "papermill": {
     "duration": 0.026107,
     "end_time": "2024-08-08T16:08:03.851845",
     "exception": false,
     "start_time": "2024-08-08T16:08:03.825738",
     "status": "completed"
    },
    "tags": []
   },
   "outputs": [
    {
     "data": {
      "text/plain": [
       "((80,), (80,), (20,), (20,))"
      ]
     },
     "execution_count": 9,
     "metadata": {},
     "output_type": "execute_result"
    }
   ],
   "source": [
    "from sklearn.model_selection import train_test_split\n",
    "X1 = df['stemmed_and_prepro']\n",
    "y1 = df['review_type']\n",
    "X2 = df['prepro']\n",
    "y2 = y1\n",
    "\n",
    "X1_train, X1_test, y1_train, y1_test = train_test_split(X1, y1, test_size=0.2, random_state=42)\n",
    "X2_train, X2_test, y2_train, y2_test = train_test_split(X2, y2, test_size=0.2, random_state=42)\n",
    "X1_train.shape, X2_train.shape,X1_test.shape, X2_test.shape"
   ]
  },
  {
   "cell_type": "code",
   "execution_count": 10,
   "id": "67dc7da2",
   "metadata": {
    "execution": {
     "iopub.execute_input": "2024-08-08T16:08:03.868986Z",
     "iopub.status.busy": "2024-08-08T16:08:03.868611Z",
     "iopub.status.idle": "2024-08-08T16:08:03.903701Z",
     "shell.execute_reply": "2024-08-08T16:08:03.902643Z"
    },
    "papermill": {
     "duration": 0.046448,
     "end_time": "2024-08-08T16:08:03.906269",
     "exception": false,
     "start_time": "2024-08-08T16:08:03.859821",
     "status": "completed"
    },
    "tags": []
   },
   "outputs": [
    {
     "data": {
      "text/plain": [
       "((80, 627), (80, 771), (20, 627), (20, 771))"
      ]
     },
     "execution_count": 10,
     "metadata": {},
     "output_type": "execute_result"
    }
   ],
   "source": [
    "tfidf_vectorizer1 = TfidfVectorizer()\n",
    "tfidf_matrix_model1 = tfidf_vectorizer1.fit_transform(X1_train)\n",
    "X_test_model1 = tfidf_vectorizer1.transform(X1_test)\n",
    "\n",
    "tfidf_vectorizer2 = TfidfVectorizer()\n",
    "tfidf_matrix_model2 = tfidf_vectorizer2.fit_transform(X2_train)\n",
    "X_test_model2 = tfidf_vectorizer2.transform(X2_test)\n",
    "tfidf_matrix_model1.shape, tfidf_matrix_model2.shape, X_test_model1.shape, X_test_model2.shape"
   ]
  },
  {
   "cell_type": "code",
   "execution_count": 11,
   "id": "b921f83a",
   "metadata": {
    "execution": {
     "iopub.execute_input": "2024-08-08T16:08:03.923385Z",
     "iopub.status.busy": "2024-08-08T16:08:03.922965Z",
     "iopub.status.idle": "2024-08-08T16:08:03.930206Z",
     "shell.execute_reply": "2024-08-08T16:08:03.929175Z"
    },
    "papermill": {
     "duration": 0.018842,
     "end_time": "2024-08-08T16:08:03.932842",
     "exception": false,
     "start_time": "2024-08-08T16:08:03.914000",
     "status": "completed"
    },
    "tags": []
   },
   "outputs": [
    {
     "data": {
      "text/plain": [
       "numpy.ndarray"
      ]
     },
     "execution_count": 11,
     "metadata": {},
     "output_type": "execute_result"
    }
   ],
   "source": [
    "type(np.array(y1_train))"
   ]
  },
  {
   "cell_type": "code",
   "execution_count": 12,
   "id": "65aa9ef6",
   "metadata": {
    "execution": {
     "iopub.execute_input": "2024-08-08T16:08:03.956588Z",
     "iopub.status.busy": "2024-08-08T16:08:03.955433Z",
     "iopub.status.idle": "2024-08-08T16:08:03.962413Z",
     "shell.execute_reply": "2024-08-08T16:08:03.961349Z"
    },
    "papermill": {
     "duration": 0.028161,
     "end_time": "2024-08-08T16:08:03.972466",
     "exception": false,
     "start_time": "2024-08-08T16:08:03.944305",
     "status": "completed"
    },
    "tags": []
   },
   "outputs": [],
   "source": [
    "def classify(X_train_matrix, X_test_vector, y_train):\n",
    "    cosine_similarities = cosine_similarity(X_train_matrix, X_test_vector)\n",
    "    most_similar_doc_index = np.argmax(cosine_similarities, axis=0)\n",
    "    return np.array(y_train)[most_similar_doc_index[0]]"
   ]
  },
  {
   "cell_type": "code",
   "execution_count": 13,
   "id": "8adbe22b",
   "metadata": {
    "execution": {
     "iopub.execute_input": "2024-08-08T16:08:03.996209Z",
     "iopub.status.busy": "2024-08-08T16:08:03.995795Z",
     "iopub.status.idle": "2024-08-08T16:08:04.045957Z",
     "shell.execute_reply": "2024-08-08T16:08:04.044794Z"
    },
    "papermill": {
     "duration": 0.065664,
     "end_time": "2024-08-08T16:08:04.049283",
     "exception": false,
     "start_time": "2024-08-08T16:08:03.983619",
     "status": "completed"
    },
    "tags": []
   },
   "outputs": [],
   "source": [
    "predictions_model1 = [classify(tfidf_matrix_model1, X_test_model1[i], y1_train) for i in range(X_test_model1.shape[0])]\n",
    "predictions_model2 = [classify(tfidf_matrix_model2, X_test_model2[i], y2_train) for i in range(X_test_model2.shape[0])]"
   ]
  },
  {
   "cell_type": "code",
   "execution_count": 14,
   "id": "44fabf2d",
   "metadata": {
    "execution": {
     "iopub.execute_input": "2024-08-08T16:08:04.072048Z",
     "iopub.status.busy": "2024-08-08T16:08:04.071065Z",
     "iopub.status.idle": "2024-08-08T16:08:04.078891Z",
     "shell.execute_reply": "2024-08-08T16:08:04.077857Z"
    },
    "papermill": {
     "duration": 0.021455,
     "end_time": "2024-08-08T16:08:04.081562",
     "exception": false,
     "start_time": "2024-08-08T16:08:04.060107",
     "status": "completed"
    },
    "tags": []
   },
   "outputs": [],
   "source": [
    "from sklearn.metrics import accuracy_score, precision_score, recall_score, f1_score\n",
    "def evaluate(y_true, y_pred):\n",
    "    accuracy = accuracy_score(y_true, y_pred)\n",
    "    precision = precision_score(y_true, y_pred, pos_label=\"Fresh\")\n",
    "    recall = recall_score(y_true, y_pred, pos_label=\"Fresh\")\n",
    "    f1 = f1_score(y_true, y_pred, pos_label=\"Fresh\")\n",
    "    return accuracy, precision, recall, f1"
   ]
  },
  {
   "cell_type": "code",
   "execution_count": 15,
   "id": "ec95fdcf",
   "metadata": {
    "execution": {
     "iopub.execute_input": "2024-08-08T16:08:04.103587Z",
     "iopub.status.busy": "2024-08-08T16:08:04.103216Z",
     "iopub.status.idle": "2024-08-08T16:08:04.128730Z",
     "shell.execute_reply": "2024-08-08T16:08:04.127259Z"
    },
    "papermill": {
     "duration": 0.038376,
     "end_time": "2024-08-08T16:08:04.131099",
     "exception": false,
     "start_time": "2024-08-08T16:08:04.092723",
     "status": "completed"
    },
    "tags": []
   },
   "outputs": [
    {
     "name": "stdout",
     "output_type": "stream",
     "text": [
      "Model 1 (With Stopword Removal & Stemming):\n",
      "Accuracy: 0.55\n",
      "Precision: 0.45\n",
      "Recall: 0.62\n",
      "F1 Score: 0.53\n",
      "\n",
      "Model 2 (Without Stopword Removal & Stemming):\n",
      "Accuracy: 0.55\n",
      "Precision: 0.45\n",
      "Recall: 0.62\n",
      "F1 Score: 0.53\n"
     ]
    }
   ],
   "source": [
    "accuracy_model1, precision_model1, recall_model1, f1_model1 = evaluate(y1_test, predictions_model1)\n",
    "\n",
    "# Evaluate Model 2\n",
    "accuracy_model2, precision_model2, recall_model2, f1_model2 = evaluate(y2_test, predictions_model2)\n",
    "\n",
    "# Step 8: Print Results\n",
    "print(\"Model 1 (With Stopword Removal & Stemming):\")\n",
    "print(f\"Accuracy: {accuracy_model1:.2f}\")\n",
    "print(f\"Precision: {precision_model1:.2f}\")\n",
    "print(f\"Recall: {recall_model1:.2f}\")\n",
    "print(f\"F1 Score: {f1_model1:.2f}\")\n",
    "\n",
    "print(\"\\nModel 2 (Without Stopword Removal & Stemming):\")\n",
    "print(f\"Accuracy: {accuracy_model2:.2f}\")\n",
    "print(f\"Precision: {precision_model2:.2f}\")\n",
    "print(f\"Recall: {recall_model2:.2f}\")\n",
    "print(f\"F1 Score: {f1_model2:.2f}\")"
   ]
  },
  {
   "cell_type": "code",
   "execution_count": null,
   "id": "ee0dc9f9",
   "metadata": {
    "papermill": {
     "duration": 0.007387,
     "end_time": "2024-08-08T16:08:04.146730",
     "exception": false,
     "start_time": "2024-08-08T16:08:04.139343",
     "status": "completed"
    },
    "tags": []
   },
   "outputs": [],
   "source": []
  }
 ],
 "metadata": {
  "kaggle": {
   "accelerator": "none",
   "dataSources": [
    {
     "datasetId": 955509,
     "sourceId": 1617920,
     "sourceType": "datasetVersion"
    }
   ],
   "dockerImageVersionId": 30746,
   "isGpuEnabled": false,
   "isInternetEnabled": true,
   "language": "python",
   "sourceType": "notebook"
  },
  "kernelspec": {
   "display_name": "Python 3",
   "language": "python",
   "name": "python3"
  },
  "language_info": {
   "codemirror_mode": {
    "name": "ipython",
    "version": 3
   },
   "file_extension": ".py",
   "mimetype": "text/x-python",
   "name": "python",
   "nbconvert_exporter": "python",
   "pygments_lexer": "ipython3",
   "version": "3.10.13"
  },
  "papermill": {
   "default_parameters": {},
   "duration": 14.912542,
   "end_time": "2024-08-08T16:08:04.876897",
   "environment_variables": {},
   "exception": null,
   "input_path": "__notebook__.ipynb",
   "output_path": "__notebook__.ipynb",
   "parameters": {},
   "start_time": "2024-08-08T16:07:49.964355",
   "version": "2.5.0"
  }
 },
 "nbformat": 4,
 "nbformat_minor": 5
}
